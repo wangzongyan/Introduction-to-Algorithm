{
 "cells": [
  {
   "cell_type": "markdown",
   "metadata": {},
   "source": [
    "### 6.2-0 MAX-HEAPIFY"
   ]
  },
  {
   "cell_type": "code",
   "execution_count": 1,
   "metadata": {
    "collapsed": false
   },
   "outputs": [
    {
     "data": {
      "text/plain": [
       "[9, 5, 6, 1, 3, 2]"
      ]
     },
     "execution_count": 1,
     "metadata": {},
     "output_type": "execute_result"
    }
   ],
   "source": [
    "def max_heapify(A, i):\n",
    "    left = i*2+1\n",
    "    right = 2*(i+1)\n",
    "    len_A = len(A)\n",
    "    if left < len_A and A[left] > A[i]:\n",
    "        maximum = left\n",
    "    else:\n",
    "        maximum = i\n",
    "    if right < len_A and A[right] > A[maximum]:\n",
    "        maximum = right\n",
    "    if i != maximum:\n",
    "        A[maximum], A[i] = A[i], A[maximum]\n",
    "        return max_heapify(A, maximum)\n",
    "\n",
    "t = [1,9,6,5,3,2]\n",
    "max_heapify(t, 0)\n",
    "t"
   ]
  },
  {
   "cell_type": "markdown",
   "metadata": {},
   "source": [
    "### 6.2-2\n",
    "Starting with the procedure MAX-HEAPIFY , write pseudocode for the procedure\n",
    "MIN-HEAPIFY(A, i), which performs the corresponding manipulation on a min-\n",
    "heap. How does the running time of MIN -HEAPIFY compare to that of MAX -\n",
    "HEAPIFY "
   ]
  },
  {
   "cell_type": "code",
   "execution_count": 2,
   "metadata": {
    "collapsed": false
   },
   "outputs": [
    {
     "data": {
      "text/plain": [
       "[1, 3, 2, 7, 4, 5, 6, 9, 8]"
      ]
     },
     "execution_count": 2,
     "metadata": {},
     "output_type": "execute_result"
    }
   ],
   "source": [
    "def min_heapify(A, i):\n",
    "    left = 2*i + 1\n",
    "    right = 2* (i+1)\n",
    "    len_A = len(A)\n",
    "    if left < len_A and A[left] < A[i]:\n",
    "        minimum = left\n",
    "    else:\n",
    "        minimum = i\n",
    "    if right < len_A and A[right] < A[minimum]:\n",
    "        minimum = right\n",
    "    if i != minimum:\n",
    "        A[i], A[minimum] = A[minimum], A[i]\n",
    "        return min_heapify(A, minimum)\n",
    "\n",
    "t = [1, 9, 2,3,4,5, 6, 7, 8]\n",
    "min_heapify(t, 1)\n",
    "t"
   ]
  },
  {
   "cell_type": "markdown",
   "metadata": {},
   "source": [
    "### 6.2-3\n",
    "What is the effect of calling MAX-HEAPIFY(A, i) when the element A[i] is larger\n",
    "than its children?"
   ]
  },
  {
   "cell_type": "code",
   "execution_count": 3,
   "metadata": {
    "collapsed": false
   },
   "outputs": [
    {
     "data": {
      "text/plain": [
       "'A unchanged'"
      ]
     },
     "execution_count": 3,
     "metadata": {},
     "output_type": "execute_result"
    }
   ],
   "source": [
    "\"\"\"A unchanged\"\"\""
   ]
  },
  {
   "cell_type": "markdown",
   "metadata": {},
   "source": [
    "### 6.2-4\n",
    "What is the effect of calling MAX-HEAPIFY(A, i) for i > A.heap-size/2?"
   ]
  },
  {
   "cell_type": "code",
   "execution_count": 4,
   "metadata": {
    "collapsed": false
   },
   "outputs": [
    {
     "data": {
      "text/plain": [
       "\"A[i] would be leaf when A > A.heap-size/2. So A[i] doesn't have left or right child. Nothing would happen\""
      ]
     },
     "execution_count": 4,
     "metadata": {},
     "output_type": "execute_result"
    }
   ],
   "source": [
    "\"\"\"A[i] would be leaf when A > A.heap-size/2. So A[i] doesn't have left or right child. Nothing would happen\"\"\""
   ]
  },
  {
   "cell_type": "markdown",
   "metadata": {},
   "source": [
    "### 6.2-5\n",
    "The code for MAX-HEAPIFY is quite efficient in terms of constant factors, except\n",
    "possibly for the recursive call in line 10, which might cause some compilers to\n",
    "produce inefficient code. Write an efficient MAX-HEAPIFY that uses an iterative\n",
    "control construct (a loop) instead of recursion."
   ]
  },
  {
   "cell_type": "code",
   "execution_count": 5,
   "metadata": {
    "collapsed": false
   },
   "outputs": [
    {
     "data": {
      "text/plain": [
       "[1, 9, 6, 5, 3, 2]"
      ]
     },
     "execution_count": 5,
     "metadata": {},
     "output_type": "execute_result"
    }
   ],
   "source": [
    "def max_heapify(A, i):\n",
    "    len_A = len(A)\n",
    "    while i < len_A//2:\n",
    "        left = 2*i + 1\n",
    "        right = 2 * (i+1)\n",
    "        if left < len_A and A[left] > A[i]:\n",
    "            maximum = left\n",
    "        else:\n",
    "            maximum = i\n",
    "        if right < len_A and A[right] > A[maximum]:\n",
    "            maximum = right\n",
    "        if maximum == i:\n",
    "            break\n",
    "        else:\n",
    "            A[i], A[maximum] = A[maximum], A[i]\n",
    "            i = maximum\n",
    "            \n",
    "t = [1,9,6,5,3,2]\n",
    "max_heapify(t, 2)\n",
    "t"
   ]
  },
  {
   "cell_type": "code",
   "execution_count": null,
   "metadata": {
    "collapsed": true
   },
   "outputs": [],
   "source": []
  }
 ],
 "metadata": {
  "kernelspec": {
   "display_name": "Python [Root]",
   "language": "python",
   "name": "Python [Root]"
  },
  "language_info": {
   "codemirror_mode": {
    "name": "ipython",
    "version": 3
   },
   "file_extension": ".py",
   "mimetype": "text/x-python",
   "name": "python",
   "nbconvert_exporter": "python",
   "pygments_lexer": "ipython3",
   "version": "3.5.2"
  }
 },
 "nbformat": 4,
 "nbformat_minor": 0
}
