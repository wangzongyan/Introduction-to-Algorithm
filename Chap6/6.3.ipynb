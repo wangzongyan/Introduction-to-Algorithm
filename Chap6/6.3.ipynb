{
 "cells": [
  {
   "cell_type": "markdown",
   "metadata": {},
   "source": [
    "### 6.3.0 build_max_heap"
   ]
  },
  {
   "cell_type": "code",
   "execution_count": 1,
   "metadata": {
    "collapsed": true
   },
   "outputs": [],
   "source": [
    "def build_max_heap(A):\n",
    "    for i in range(len(A)//2, -1, -1):\n",
    "        max_heapify(A, i)\n",
    "    return A\n",
    "\n",
    "def max_heapify(A, i):\n",
    "    left = i * 2 + 1\n",
    "    right = 2 * (i + 1)\n",
    "    len_A = len(A)\n",
    "    if left < len_A and A[left] > A[i]:\n",
    "        maximum = left\n",
    "    else:\n",
    "        maximum = i\n",
    "    if right < len_A and A[right] > A[maximum]:\n",
    "        maximum = right\n",
    "    if maximum != i:\n",
    "        A[i], A[maximum] = A[maximum], A[i]\n",
    "        return max_heapify(A, maximum)"
   ]
  },
  {
   "cell_type": "code",
   "execution_count": 8,
   "metadata": {
    "collapsed": false
   },
   "outputs": [
    {
     "name": "stdout",
     "output_type": "stream",
     "text": [
      "[14 19 25  7  2 11  8 49 15 31]\n"
     ]
    },
    {
     "data": {
      "text/plain": [
       "array([49, 31, 25, 19, 14, 11,  8,  7, 15,  2])"
      ]
     },
     "execution_count": 8,
     "metadata": {},
     "output_type": "execute_result"
    }
   ],
   "source": [
    "import numpy as np\n",
    "A = np.random.randint(0,50,10)\n",
    "print(A)\n",
    "build_max_heap(A)"
   ]
  }
 ],
 "metadata": {
  "anaconda-cloud": {},
  "kernelspec": {
   "display_name": "Python [Root]",
   "language": "python",
   "name": "Python [Root]"
  },
  "language_info": {
   "codemirror_mode": {
    "name": "ipython",
    "version": 3
   },
   "file_extension": ".py",
   "mimetype": "text/x-python",
   "name": "python",
   "nbconvert_exporter": "python",
   "pygments_lexer": "ipython3",
   "version": "3.5.2"
  }
 },
 "nbformat": 4,
 "nbformat_minor": 0
}
