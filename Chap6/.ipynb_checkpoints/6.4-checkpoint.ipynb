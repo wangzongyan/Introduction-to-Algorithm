{
 "cells": [
  {
   "cell_type": "markdown",
   "metadata": {},
   "source": [
    "### 6.4.0 heapsort"
   ]
  },
  {
   "cell_type": "code",
   "execution_count": 1,
   "metadata": {
    "collapsed": true
   },
   "outputs": [],
   "source": [
    "def heapsort(A):\n",
    "    build_max_heap(A)\n",
    "    lenA = len(A)\n",
    "    for i in range(lenA-1, 0, -1):\n",
    "        A[0], A[i] = A[i], A[0]\n",
    "        max_heapify(A[:i], 0)\n",
    "    return A\n",
    "\n",
    "def build_max_heap(A):\n",
    "    lenA = len(A)\n",
    "    for i in range(lenA//2, -1, -1):\n",
    "        max_heapify(A, i)\n",
    "    return A\n",
    "\n",
    "def max_heapify(A, i):\n",
    "    l = 2 * i + 1\n",
    "    r = 2 * (i + 1)\n",
    "    lenA = len(A)\n",
    "    if l < lenA and A[l] > A[i]:\n",
    "        m = l\n",
    "    else:\n",
    "        m = i\n",
    "    if r < lenA and A[r] > A[m]:\n",
    "        m = r\n",
    "    if m != i:\n",
    "        A[i], A[m] = A[m], A[i]\n",
    "        return max_heapify(A, m)\n",
    "    "
   ]
  },
  {
   "cell_type": "code",
   "execution_count": 2,
   "metadata": {
    "collapsed": false
   },
   "outputs": [
    {
     "name": "stdout",
     "output_type": "stream",
     "text": [
      "[20 30 35 30  8 43 15 42  5 31 35 47 41 49 25  8  4  6 41  4]\n"
     ]
    },
    {
     "data": {
      "text/plain": [
       "array([ 4,  4,  5,  6,  8,  8, 15, 20, 25, 30, 30, 31, 35, 35, 41, 41, 42,\n",
       "       43, 47, 49])"
      ]
     },
     "execution_count": 2,
     "metadata": {},
     "output_type": "execute_result"
    }
   ],
   "source": [
    "import numpy as np\n",
    "A = np.random.randint(0, 50, 20)\n",
    "print(A)\n",
    "heapsort(A)"
   ]
  }
 ],
 "metadata": {
  "kernelspec": {
   "display_name": "Python [Root]",
   "language": "python",
   "name": "Python [Root]"
  },
  "language_info": {
   "codemirror_mode": {
    "name": "ipython",
    "version": 3
   },
   "file_extension": ".py",
   "mimetype": "text/x-python",
   "name": "python",
   "nbconvert_exporter": "python",
   "pygments_lexer": "ipython3",
   "version": "3.5.2"
  }
 },
 "nbformat": 4,
 "nbformat_minor": 0
}
