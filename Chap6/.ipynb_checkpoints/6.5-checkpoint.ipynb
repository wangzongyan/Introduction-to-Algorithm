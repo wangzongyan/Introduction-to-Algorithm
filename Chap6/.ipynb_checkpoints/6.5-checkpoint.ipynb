{
 "cells": [
  {
   "cell_type": "markdown",
   "metadata": {},
   "source": [
    "### 6.5-0 priority queues"
   ]
  },
  {
   "cell_type": "code",
   "execution_count": 1,
   "metadata": {
    "collapsed": true
   },
   "outputs": [],
   "source": [
    "import numpy as np\n",
    "\n",
    "class priority_queue:\n",
    "    def __init__(self, A):\n",
    "        self.A = list(A)\n",
    "        self.build_max_heap()\n",
    "        \n",
    "    def build_max_heap(self):\n",
    "        lenA = len(self.A)\n",
    "        for i in range(lenA-1, -1, -1):\n",
    "            self.max_heapify(self.A, i)\n",
    "        \n",
    "    def max_heapify(self, A, i):\n",
    "        left = 2*i+1\n",
    "        right = 2*(i+1)\n",
    "        lenA = len(A)\n",
    "        if left < lenA and A[left] > A[i]:\n",
    "            m = left\n",
    "        else:\n",
    "            m = i\n",
    "        if right < lenA and A[right] > A[m]:\n",
    "            m = right\n",
    "        if i != m:\n",
    "            A[i], A[m] = A[m], A[i]\n",
    "            return self.max_heapify(A, m)\n",
    "        \n",
    "    def heap_maximum(self):\n",
    "        return self.A[0]\n",
    "    \n",
    "    def heap_extract_max(self):\n",
    "        m = self.A[0]\n",
    "        self.A[0], self.A[-1] = self.A[-1], self.A[0]\n",
    "        self.A[:] = self.A[:-1]\n",
    "        self.max_heapify(self.A, 0)\n",
    "        return m\n",
    "        \n",
    "    def heap_increase_key(self, i, key):\n",
    "        if key < self.A[i]:\n",
    "            raise ValueError('key is smaller than A[i]')\n",
    "        self.A[i] = key\n",
    "        parent = (i-1)//2\n",
    "        while i > 0 and self.A[i] > self.A[parent]:\n",
    "            self.A[i], self.A[parent] = self.A[parent], self.A[i]\n",
    "            i = parent\n",
    "            parent = (i-1) // 2\n",
    "            \n",
    "    def max_heap_insert(self, key):\n",
    "        self.A.append(-np.inf)\n",
    "        self.heap_increase_key(len(self.A)-1, key)\n",
    "        \n",
    "    def __str__(self):\n",
    "        return str(self.A)\n",
    "    \n",
    "    def __len__(self):\n",
    "        return len(A)\n",
    "    "
   ]
  },
  {
   "cell_type": "code",
   "execution_count": 2,
   "metadata": {
    "collapsed": false
   },
   "outputs": [
    {
     "name": "stdout",
     "output_type": "stream",
     "text": [
      "[29, 28, 27, 17, 9, 23, 14, 8, 15, 5, 7, 21, 3, 10, 8]\n",
      "[28, 17, 27, 15, 9, 23, 14, 8, 8, 5, 7, 21, 3, 10]\n",
      "[31, 17, 28, 15, 9, 23, 27, 8, 8, 5, 7, 21, 3, 10]\n",
      "[32, 17, 31, 15, 9, 23, 28, 8, 8, 5, 7, 21, 3, 10, 27]\n"
     ]
    }
   ],
   "source": [
    "q = priority_queue(np.random.randint(0,30,15))\n",
    "print(q)\n",
    "q.heap_extract_max()\n",
    "print(q)\n",
    "q.heap_increase_key(6, 31)\n",
    "print(q)\n",
    "q.max_heap_insert(32)\n",
    "print(q)"
   ]
  },
  {
   "cell_type": "markdown",
   "metadata": {},
   "source": [
    "### 6.5-3\n",
    "Write pseudocode for the procedures HEAP-MINIMUM , HEAP-EXTRACT-MIN ,\n",
    "HEAP-DECREASE-KEY , and MIN-HEAP-INSERT that implement a min-priority\n",
    "queue with a min-heap."
   ]
  },
  {
   "cell_type": "code",
   "execution_count": 3,
   "metadata": {
    "collapsed": true
   },
   "outputs": [],
   "source": [
    "class min_priority_queue:\n",
    "    def __init__(self, A):\n",
    "        self.A = list(A)\n",
    "        self.build_min_heap(self.A)\n",
    "    \n",
    "    def build_min_heap(self, A):\n",
    "        lenA = len(A)\n",
    "        for i in range(lenA-1, -1, -1):\n",
    "            self.min_heapify(A, i)\n",
    "            \n",
    "    def min_heapify(self, A, i):\n",
    "        l = 2 * i + 1\n",
    "        r = 2 * (i + 1)\n",
    "        lenA = len(A)\n",
    "        if l < lenA and A[l] < A[i]:\n",
    "            minimum = l\n",
    "        else:\n",
    "            minimum = i\n",
    "        if r < lenA and A[r] < A[minimum]:\n",
    "            minimum = r\n",
    "        if i != minimum:\n",
    "            A[i], A[minimum] = A[minimum], A[i]\n",
    "            return self.min_heapify(A, minimum)\n",
    "    \n",
    "    def heap_minimum(self):\n",
    "        return self.A[0]\n",
    "    \n",
    "    def heap_extract_min(self):\n",
    "        minimum = self.A[0]\n",
    "        self.A[0], self.A[-1] = self.A[-1], self.A[0]\n",
    "        self.A[:] = self.A[:-1]\n",
    "        self.min_heapify(self.A, 0)\n",
    "        return minimum\n",
    "    \n",
    "    def heap_decrease_key(self, i, key):\n",
    "        if self.A[i] < key:\n",
    "            raise ValueError('key is larger than A[i]')\n",
    "        self.A[i] = key\n",
    "        parent = (i-1) // 2\n",
    "        while i > 0 and self.A[parent] > key:\n",
    "            self.A[i] = self.A[parent] \n",
    "            i = parent\n",
    "            parent = (i-1) // 2\n",
    "        self.A[i] = key\n",
    "        \n",
    "    def min_heap_insert(self, key):\n",
    "        self.A.append(np.inf)\n",
    "        self.heap_decrease_key(len(self.A)-1,key)\n",
    "        \n",
    "    def __str__(self):\n",
    "        return str(self.A)\n",
    "        "
   ]
  },
  {
   "cell_type": "code",
   "execution_count": 4,
   "metadata": {
    "collapsed": false
   },
   "outputs": [
    {
     "name": "stdout",
     "output_type": "stream",
     "text": [
      "[11, 13, 14, 17, 25, 18, 16, 28, 20, 28, 26, 25, 23, 19, 24]\n",
      "[13, 17, 14, 20, 25, 18, 16, 28, 24, 28, 26, 25, 23, 19]\n",
      "[7, 17, 13, 20, 25, 18, 14, 28, 24, 28, 26, 25, 23, 19]\n",
      "[1, 17, 7, 20, 25, 18, 13, 28, 24, 28, 26, 25, 23, 19, 14]\n"
     ]
    }
   ],
   "source": [
    "q = min_priority_queue(np.random.randint(10,30,15))\n",
    "print(q)\n",
    "q.heap_extract_min()\n",
    "print(q)\n",
    "q.heap_decrease_key(6, 7)\n",
    "print(q)\n",
    "q.min_heap_insert(1)\n",
    "print(q)"
   ]
  },
  {
   "cell_type": "markdown",
   "metadata": {},
   "source": [
    "### 6.5-6\n",
    "Each exchange operation on line 5 of HEAP-INCREASE-KEY typically requires\n",
    "three assignments. Show how to use the idea of the inner loop of INSERTION-SORT to reduce the three assignments down to just one assignment."
   ]
  },
  {
   "cell_type": "code",
   "execution_count": 5,
   "metadata": {
    "collapsed": true
   },
   "outputs": [],
   "source": [
    "class priority_queue1(priority_queue):\n",
    "    def __init__(self, A):\n",
    "        priority_queue.__init__(self, A)\n",
    "    def heap_increase_key(self, i, key):\n",
    "        if self.A[i] > key:\n",
    "            raise ValueError('key is smaller than A[i]')\n",
    "        self.A[i] = key\n",
    "        parent = (i-1)//2\n",
    "        while i > 0 and key > self.A[parent]:\n",
    "            self.A[i] = self.A[parent]\n",
    "            i = parent\n",
    "            parent = (i-1)//2\n",
    "        self.A[i] = key"
   ]
  },
  {
   "cell_type": "code",
   "execution_count": 6,
   "metadata": {
    "collapsed": false
   },
   "outputs": [
    {
     "name": "stdout",
     "output_type": "stream",
     "text": [
      "[28, 27, 27, 21, 15, 15, 23, 14, 10, 7, 3, 3, 2, 1, 14]\n",
      "[31, 27, 28, 21, 15, 15, 27, 14, 10, 7, 3, 3, 2, 1, 14]\n"
     ]
    }
   ],
   "source": [
    "q = priority_queue1(np.random.randint(0, 30, 15))\n",
    "print(q)\n",
    "q.heap_increase_key(6, 31)\n",
    "print(q)"
   ]
  },
  {
   "cell_type": "markdown",
   "metadata": {},
   "source": [
    "### 6.5-7\n",
    "Show how to implement a first-in, first-out queue with a priority queue. Show\n",
    "how to implement a stack with a priority queue. (Queues and stacks are defined in\n",
    "Section 10.1.)"
   ]
  },
  {
   "cell_type": "code",
   "execution_count": 7,
   "metadata": {
    "collapsed": true
   },
   "outputs": [],
   "source": [
    "class first_in_out_queue(min_priority_queue):\n",
    "    def __init__(self):\n",
    "        min_priority_queue.__init__(self, [])\n",
    "        \n",
    "    def add_task(self):\n",
    "        self.min_heap_insert(len(self.A))"
   ]
  },
  {
   "cell_type": "code",
   "execution_count": 8,
   "metadata": {
    "collapsed": false
   },
   "outputs": [
    {
     "name": "stdout",
     "output_type": "stream",
     "text": [
      "[0]\n",
      "[0, 1]\n"
     ]
    }
   ],
   "source": [
    "q = first_in_out_queue()\n",
    "q.add_task()\n",
    "print(q)\n",
    "q.add_task()\n",
    "print(q)"
   ]
  },
  {
   "cell_type": "markdown",
   "metadata": {},
   "source": [
    "### 6.5-8\n",
    "The operation HEAP-DELETE(A,i) deletes the item in node i from heap A. Give\n",
    "an implementation of HEAP-DELETE that runs in O(lgn) time for an n-element\n",
    "max-heap.\n"
   ]
  },
  {
   "cell_type": "code",
   "execution_count": 9,
   "metadata": {
    "collapsed": true
   },
   "outputs": [],
   "source": [
    "class priority_queue2(priority_queue):\n",
    "    def __init__(self, A):\n",
    "        priority_queue.__init__(self, A)\n",
    "        \n",
    "    def heap_delete(self, i):\n",
    "        self.A[i], self.A[-1] = self.A[-1], self.A[i]\n",
    "        self.A[:] = self.A[:-1]\n",
    "        if i < len(self.A):\n",
    "            self.max_heapify(self.A, i)"
   ]
  },
  {
   "cell_type": "code",
   "execution_count": 10,
   "metadata": {
    "collapsed": false
   },
   "outputs": [
    {
     "name": "stdout",
     "output_type": "stream",
     "text": [
      "[28, 23, 27, 6, 15, 21, 27, 1, 3, 11, 10, 18, 21, 16, 10]\n",
      "[28, 15, 27, 6, 11, 21, 27, 1, 3, 10, 10, 18, 21, 16]\n"
     ]
    }
   ],
   "source": [
    "q = priority_queue2(np.random.randint(0,30,15))\n",
    "print(q)\n",
    "q.heap_delete(1)\n",
    "print(q)"
   ]
  },
  {
   "cell_type": "markdown",
   "metadata": {},
   "source": [
    "### 6.5-9\n",
    "Give an O(nlgk)-time algorithm to merge k sorted lists into one sorted list,\n",
    "where n is the total number of elements in all the input lists. (Hint: Use a min-heap for k-way merging.)"
   ]
  },
  {
   "cell_type": "code",
   "execution_count": 11,
   "metadata": {
    "collapsed": true
   },
   "outputs": [],
   "source": [
    "def merge_sorted(kLists):\n",
    "    out = []\n",
    "    # Initialize with smallest values of every list\n",
    "    for l in kLists:\n",
    "        for i in range(len(l)):\n",
    "            l[i] = Node(val = l[i])\n",
    "    for l in kLists:\n",
    "        for i in range(len(l)-1):\n",
    "            l[i].change_next(l[i+1])\n",
    "    # build min heap\n",
    "    A = build_min_heap([l[0] for l in kLists])\n",
    "    while len(A) > 0:\n",
    "        # append min to out\n",
    "        min_node = A[0]\n",
    "        out.append(min_node.val)\n",
    "        if min_node.next:\n",
    "            A[0] = min_node.next\n",
    "            min_heapify(A, 0)\n",
    "        else:\n",
    "            A.pop(0)\n",
    "    return out\n",
    "        \n",
    "    \n",
    "class Node:\n",
    "    def __init__(self, val, next=None):\n",
    "        self.val = val\n",
    "        self.next = next\n",
    "    \n",
    "    def change_next(self, next):\n",
    "        self.next = next\n",
    "    \n",
    "def build_min_heap(A):\n",
    "    lenA = len(A)\n",
    "    for i in range(lenA-1, -1, -1):\n",
    "        min_heapify(A, i)\n",
    "    return A\n",
    "            \n",
    "def min_heapify(A, i):\n",
    "    l = 2 * i + 1\n",
    "    r = 2 * (i + 1)\n",
    "    lenA = len(A)\n",
    "    if l < lenA and A[l].val < A[i].val:\n",
    "        minimum = l\n",
    "    else:\n",
    "        minimum = i\n",
    "    if r < lenA and A[r].val < A[minimum].val:\n",
    "        minimum = r\n",
    "    if i != minimum:\n",
    "        A[i], A[minimum] = A[minimum], A[i]\n",
    "        return min_heapify(A, minimum)    \n"
   ]
  },
  {
   "cell_type": "code",
   "execution_count": 12,
   "metadata": {
    "collapsed": false
   },
   "outputs": [
    {
     "data": {
      "text/plain": [
       "[0, 1, 2, 3, 4, 5, 6, 7, 9]"
      ]
     },
     "execution_count": 12,
     "metadata": {},
     "output_type": "execute_result"
    }
   ],
   "source": [
    "merge_sorted([[1,4,7], [2,3,6, 9], [0, 5]])"
   ]
  }
 ],
 "metadata": {
  "kernelspec": {
   "display_name": "Python [Root]",
   "language": "python",
   "name": "Python [Root]"
  },
  "language_info": {
   "codemirror_mode": {
    "name": "ipython",
    "version": 3
   },
   "file_extension": ".py",
   "mimetype": "text/x-python",
   "name": "python",
   "nbconvert_exporter": "python",
   "pygments_lexer": "ipython3",
   "version": "3.5.2"
  }
 },
 "nbformat": 4,
 "nbformat_minor": 0
}
