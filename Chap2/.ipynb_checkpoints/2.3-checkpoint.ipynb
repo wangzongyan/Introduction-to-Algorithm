{
 "cells": [
  {
   "cell_type": "markdown",
   "metadata": {},
   "source": [
    "### 2.3-2\n",
    "MERGE-SORT: Rewrite the MERGE procedure so that it does not use sentinels, instead stopping\n",
    "once either array L or R has had all its elements copied back to A and then copying\n",
    "the remainder of the other array back into A."
   ]
  },
  {
   "cell_type": "code",
   "execution_count": 1,
   "metadata": {
    "collapsed": false
   },
   "outputs": [
    {
     "data": {
      "text/plain": [
       "[1, 1, 2, 3, 4, 5, 6, 9]"
      ]
     },
     "execution_count": 1,
     "metadata": {},
     "output_type": "execute_result"
    }
   ],
   "source": [
    "def merge_sort(A, l, r):\n",
    "    if len(A[l:r]) <= 1:\n",
    "        return A[l:r]\n",
    "    m = (l+r) // 2\n",
    "    left = merge_sort(A, l, m)\n",
    "    right = merge_sort(A, m, r)\n",
    "    return merge(left, right, m)\n",
    "    \n",
    "\n",
    "def merge(left, right, m):\n",
    "    stack = []\n",
    "    len_l = len(left)\n",
    "    len_r = len(right)\n",
    "    i = j = 0\n",
    "    while i < len_l and j < len_r:\n",
    "        if left[i] < right[j]:\n",
    "            stack.append(left[i])\n",
    "            i += 1\n",
    "        else:\n",
    "            stack.append(right[j])\n",
    "            j += 1\n",
    "    stack.extend(left[i:] + right[j:])\n",
    "    return stack\n",
    "\n",
    "t = [3,1,4,1,5,9,2,6]\n",
    "merge_sort(t, 0, len(t))"
   ]
  },
  {
   "cell_type": "markdown",
   "metadata": {},
   "source": [
    "### 2.3-4\n",
    "We can express insertion sort as a recursive procedure as follows. In order to sort\n",
    "A[1..n], we recursively sort A[1..n-1] and then insert A[n] into the sorted array\n",
    "A[1..n-1]. Write a recurrence for the running time of this recursive version of\n",
    "insertion sort."
   ]
  },
  {
   "cell_type": "code",
   "execution_count": 2,
   "metadata": {
    "collapsed": false
   },
   "outputs": [
    {
     "data": {
      "text/plain": [
       "[1, 2, 3, 4]"
      ]
     },
     "execution_count": 2,
     "metadata": {},
     "output_type": "execute_result"
    }
   ],
   "source": [
    "def recursive_sort(A):\n",
    "    if len(A) == 1:\n",
    "        return A\n",
    "    else:\n",
    "        return insert(recursive_sort(A[:len(A)-1]), A[len(A)-1])\n",
    "\n",
    "def insert(A, x):\n",
    "    A = A + [None, ]\n",
    "    for i in range(len(A)-2, -1, -1):\n",
    "        if x < A[i]:\n",
    "            A[i+1] = A[i]\n",
    "        else:\n",
    "            A[i+1] = x\n",
    "            return A\n",
    "    A[0] = x\n",
    "    return A\n",
    "\n",
    "recursive_sort([3,2,1,4])"
   ]
  },
  {
   "cell_type": "markdown",
   "metadata": {},
   "source": [
    "### 2.3-5\n",
    "Referring back to the searching problem (see Exercise 2.1-3), observe that if the\n",
    "sequence A is sorted, we can check the midpoint of the sequence against $\\nu$ and\n",
    "eliminate half of the sequence from further consideration. The binary search algorithm repeats this procedure, halving the size of the remaining portion of the\n",
    "sequence each time. Write pseudocode, either iterative or recursive, for binary\n",
    "search. Argue that the worst-case running time of binary search is $\\Theta(nlgn)$."
   ]
  },
  {
   "cell_type": "code",
   "execution_count": 3,
   "metadata": {
    "collapsed": false
   },
   "outputs": [
    {
     "name": "stdout",
     "output_type": "stream",
     "text": [
      "Recursively\n",
      "30\n",
      "None\n",
      "Iterative\n",
      "55\n",
      "None\n"
     ]
    }
   ],
   "source": [
    "\"\"\"Recursively\"\"\"\n",
    "print('Recursively')\n",
    "def Binary_Search(A, u, low = 0):\n",
    "    if len(A) == 0:\n",
    "        return None\n",
    "    m = len(A) // 2\n",
    "    if A[m] < u:\n",
    "        return Binary_Search(A[m+1:], u, low = low+m+1)\n",
    "    elif A[m] > u:\n",
    "        return Binary_Search(A[:m], u, low = low)\n",
    "    else:\n",
    "        return low+m\n",
    "print(Binary_Search(range(100), 30))\n",
    "print(Binary_Search(range(100), 101))\n",
    "\n",
    "\"\"\"Iterative\"\"\"\n",
    "print('Iterative')\n",
    "def Binary_Search(A, u):\n",
    "    l, r = 0, len(A)-1\n",
    "    while l < r:\n",
    "        m = (l + r) // 2\n",
    "        if A[m] < u:\n",
    "            l = m+1\n",
    "        elif A[m] > u:\n",
    "            r = m\n",
    "        else: \n",
    "            return m\n",
    "    return None\n",
    "print(Binary_Search(range(99), 55))\n",
    "print(Binary_Search(range(100), 101))"
   ]
  },
  {
   "cell_type": "markdown",
   "metadata": {},
   "source": [
    "### 2.3-6\n",
    "Observe that the while loop of lines 5–7 of the INSERTION-SORT procedure in\n",
    "Section 2.1 uses a linear search to scan (backward) through the sorted subarray\n",
    "A[1..j-1]. Can we use a binary search (see Exercise 2.3-5) instead to improve\n",
    "the overall worst-case running time of insertion sort to $\\Theta(nlng)$?"
   ]
  },
  {
   "cell_type": "code",
   "execution_count": 4,
   "metadata": {
    "collapsed": false
   },
   "outputs": [
    {
     "data": {
      "text/plain": [
       "'No. It will take nlgn to search, but n^2 time to copy.'"
      ]
     },
     "execution_count": 4,
     "metadata": {},
     "output_type": "execute_result"
    }
   ],
   "source": [
    "\"\"\"No. It will take nlgn to search, but n^2 time to copy.\"\"\""
   ]
  }
 ],
 "metadata": {
  "kernelspec": {
   "display_name": "Python [Root]",
   "language": "python",
   "name": "Python [Root]"
  },
  "language_info": {
   "codemirror_mode": {
    "name": "ipython",
    "version": 3
   },
   "file_extension": ".py",
   "mimetype": "text/x-python",
   "name": "python",
   "nbconvert_exporter": "python",
   "pygments_lexer": "ipython3",
   "version": "3.5.2"
  }
 },
 "nbformat": 4,
 "nbformat_minor": 0
}
