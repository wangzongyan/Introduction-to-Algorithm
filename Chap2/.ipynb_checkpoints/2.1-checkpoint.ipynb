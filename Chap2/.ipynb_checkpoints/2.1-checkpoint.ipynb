{
 "cells": [
  {
   "cell_type": "markdown",
   "metadata": {},
   "source": [
    "### 2.1-3"
   ]
  },
  {
   "cell_type": "markdown",
   "metadata": {},
   "source": [
    "2.1-3\n",
    "Consider the searching problem: <br>\n",
    "Input: A sequence of n numbers A = $(a_1, a_2, ..., a_n)$ and a value $\\nu$. <br>\n",
    "Output: An index i such that $\\nu$ = A[i] or the special value NIL if $\\nu$ does not\n",
    "appear in A. <br>\n",
    "Write pseudocode for linear search, which scans through the sequence, looking\n",
    "for $\\nu$. Using a loop invariant, prove that your algorithm is correct. Make sure that\n",
    "your loop invariant fulfills the three necessary properties."
   ]
  },
  {
   "cell_type": "code",
   "execution_count": 4,
   "metadata": {
    "collapsed": false
   },
   "outputs": [
    {
     "data": {
      "text/plain": [
       "[1, 2]"
      ]
     },
     "execution_count": 4,
     "metadata": {},
     "output_type": "execute_result"
    }
   ],
   "source": [
    "def Linear_search(A, u):\n",
    "    index_list = []\n",
    "    for i in range(len(A)):\n",
    "        if A[i] == u:\n",
    "            index_list.append(i)\n",
    "    if len(index_list) == 0:\n",
    "        return None\n",
    "    else:\n",
    "        return index_list\n",
    "Linear_search([3,1,1,2], 1)"
   ]
  },
  {
   "cell_type": "markdown",
   "metadata": {},
   "source": [
    "### 2.1-4\n",
    "Consider the problem of adding two n-bit binary integers, stored in two n-element\n",
    "arrays A and B. The sum of the two integers should be stored in binary form in an (n+1)-element array C. State the problem formally and write pseudocode for\n",
    "adding the two integers."
   ]
  },
  {
   "cell_type": "code",
   "execution_count": 10,
   "metadata": {
    "collapsed": false
   },
   "outputs": [
    {
     "data": {
      "text/plain": [
       "array([ 1.,  1.,  1.,  0.])"
      ]
     },
     "execution_count": 10,
     "metadata": {},
     "output_type": "execute_result"
    }
   ],
   "source": [
    "import numpy as np\n",
    "def add(A, B):\n",
    "    n = len(A)\n",
    "    add_one = 0\n",
    "    C = np.zeros(n+1)\n",
    "    for i in range(n-1, -1, -1):\n",
    "        t = A[i] + B[i] + add_one\n",
    "        if t >= 2:\n",
    "            C[n-i] = t - 2\n",
    "            add_one = 1\n",
    "        else:\n",
    "            C[n-i] = t\n",
    "            add_one = 0\n",
    "    if add_one == 1:\n",
    "        C[n] = 1\n",
    "    return C[::-1]\n",
    "add([1,1,0], [1,0,1])"
   ]
  }
 ],
 "metadata": {
  "anaconda-cloud": {},
  "kernelspec": {
   "display_name": "Python [Root]",
   "language": "python",
   "name": "Python [Root]"
  },
  "language_info": {
   "codemirror_mode": {
    "name": "ipython",
    "version": 3
   },
   "file_extension": ".py",
   "mimetype": "text/x-python",
   "name": "python",
   "nbconvert_exporter": "python",
   "pygments_lexer": "ipython3",
   "version": "3.5.2"
  }
 },
 "nbformat": 4,
 "nbformat_minor": 0
}
