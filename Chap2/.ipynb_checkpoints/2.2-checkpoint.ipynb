{
 "cells": [
  {
   "cell_type": "markdown",
   "metadata": {},
   "source": [
    "### 2.2-2\n",
    "Consider sorting n numbers stored in array A by first finding the smallest element\n",
    "of A and exchanging it with the element in A[1]?. Then find the second smallest\n",
    "element of A, and exchange it with A[2]?. Continue in this manner for the first n-1\n",
    "elements of A. Write pseudocode for this algorithm, which is known as selection\n",
    "sort. What loop invariant does this algorithm maintain? Why does it need to run\n",
    "for only the first n - 1 elements, rather than for all n elements? Give the best-case\n",
    "and worst-case running times of selection sort in $\\Theta$ notation."
   ]
  },
  {
   "cell_type": "code",
   "execution_count": 14,
   "metadata": {
    "collapsed": false
   },
   "outputs": [
    {
     "data": {
      "text/plain": [
       "[1, 2, 3, 4]"
      ]
     },
     "execution_count": 14,
     "metadata": {},
     "output_type": "execute_result"
    }
   ],
   "source": [
    "def selection_sort(A):\n",
    "    if len(A) == 1:\n",
    "        return A\n",
    "    for i in range(len(A)-1):\n",
    "        key = A[i]\n",
    "        min_index, min_value = i, A[i]\n",
    "        for j in range(i+1, len(A)):\n",
    "            if min_value > A[j]:\n",
    "                min_value = A[j]\n",
    "                min_index = j\n",
    "        A[i] = min_value\n",
    "        A[min_index] = key\n",
    "    return A\n",
    "selection_sort([3,4,1,2])"
   ]
  },
  {
   "cell_type": "code",
   "execution_count": null,
   "metadata": {
    "collapsed": true
   },
   "outputs": [],
   "source": []
  }
 ],
 "metadata": {
  "kernelspec": {
   "display_name": "Python [Root]",
   "language": "python",
   "name": "Python [Root]"
  },
  "language_info": {
   "codemirror_mode": {
    "name": "ipython",
    "version": 3
   },
   "file_extension": ".py",
   "mimetype": "text/x-python",
   "name": "python",
   "nbconvert_exporter": "python",
   "pygments_lexer": "ipython3",
   "version": "3.5.2"
  }
 },
 "nbformat": 4,
 "nbformat_minor": 0
}
