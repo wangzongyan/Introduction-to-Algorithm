{
 "cells": [
  {
   "cell_type": "markdown",
   "metadata": {},
   "source": [
    "### 4.1-2\n",
    "Write pseudocode for the brute-force method of solving the maximum-subarray\n",
    "problem. Your procedure should run in $\\Theta(n^2)$."
   ]
  },
  {
   "cell_type": "code",
   "execution_count": 1,
   "metadata": {
    "collapsed": false
   },
   "outputs": [
    {
     "data": {
      "text/plain": [
       "(7, 11, 43)"
      ]
     },
     "execution_count": 1,
     "metadata": {},
     "output_type": "execute_result"
    }
   ],
   "source": [
    "import numpy as np\n",
    "def brute_force(l):\n",
    "    diff = -np.inf\n",
    "    buy = sell = 0\n",
    "    for i in range(len(l)-1):\n",
    "        for j in range(i+1, len(l)):\n",
    "            if l[j] - l[i] > diff :\n",
    "                buy = i\n",
    "                sell = j\n",
    "                diff = l[j] - l[i] \n",
    "    return buy, sell, diff\n",
    "brute_force([100, 113, 110, 85, 105, 102, 86, 63, 81, 101, 94, 106, 101, 79, 94, 90, 97])"
   ]
  },
  {
   "cell_type": "markdown",
   "metadata": {},
   "source": [
    "### 4.1-3\n",
    "Implement both the brute-force and recursive algorithms for the maximum-\n",
    "subarray problem on your owncomputer. What problem size $n_0$ gives the crossover\n",
    "point at which the recursive algorithm beats the brute-force algorithm? Then,\n",
    "change the base case of the recursive algorithm to use the brute-force algorithm\n",
    "whenever the problem size is less than $n_0$ . Does that change the crossover point?"
   ]
  },
  {
   "cell_type": "code",
   "execution_count": 2,
   "metadata": {
    "collapsed": false
   },
   "outputs": [
    {
     "data": {
      "text/plain": [
       "(7, 11, 43)"
      ]
     },
     "execution_count": 2,
     "metadata": {},
     "output_type": "execute_result"
    }
   ],
   "source": [
    "\"\"\"Instead using sum subarray, use diff directly.\"\"\"\n",
    "def max_diff_subarray(l, left, right):\n",
    "    if left == right:\n",
    "        return left, right, 0\n",
    "    m = (left+right)//2\n",
    "    # left\n",
    "    buy1, sell1, diff1 = max_diff_subarray(l, left, m)\n",
    "    # right\n",
    "    buy2, sell2, diff2 = max_diff_subarray(l, m+1, right)\n",
    "    # cross median\n",
    "    buy3, sell3, diff3 = max_diff_cross_subarray(l, left, right, m)\n",
    "    if diff1 > diff2 and diff1 > diff3:\n",
    "        return buy1, sell1, diff1\n",
    "    elif diff2 > diff1 and diff2 > diff3:\n",
    "        return buy2, sell2, diff2\n",
    "    else:\n",
    "        return buy3, sell3, diff3\n",
    "    \n",
    "def max_diff_cross_subarray(l, left, right, m):\n",
    "    lowest = np.inf\n",
    "    buy = m\n",
    "    # lowest in left\n",
    "    for i in range(m, left-1, -1):\n",
    "        if l[i] < lowest:\n",
    "            lowest = l[i]\n",
    "            buy = i\n",
    "    # highest in right\n",
    "    highest = -np.inf\n",
    "    sell = m\n",
    "    for j in range(m, right):\n",
    "        if l[j] > highest:\n",
    "            highest = l[j]\n",
    "            sell = j\n",
    "    return buy, sell, highest-lowest\n",
    "    \n",
    "t= [100, 113, 110, 85, 105, 102, 86, 63, 81, 101, 94, 106, 101, 79, 94, 90, 97]    \n",
    "max_diff_subarray(t, 0, len(t))"
   ]
  },
  {
   "cell_type": "code",
   "execution_count": 3,
   "metadata": {
    "collapsed": false
   },
   "outputs": [
    {
     "name": "stdout",
     "output_type": "stream",
     "text": [
      "0.005003213882446289\n",
      "0.0010004043579101562\n"
     ]
    }
   ],
   "source": [
    "import time\n",
    "t= [100, 113, 110, 85, 105, 102, 86, 63, 81, 101, 94, 106, 101, 79, 94, 90, 97] *10\n",
    "start = time.time()\n",
    "brute_force(t)\n",
    "end = time.time()\n",
    "print(end-start)\n",
    "\n",
    "start = time.time()\n",
    "max_diff_subarray(t, 0, len(t))\n",
    "end = time.time()\n",
    "print(end-start)"
   ]
  },
  {
   "cell_type": "markdown",
   "metadata": {},
   "source": [
    "### 4.1-5\n",
    "Use the following ideas to develop a nonrecursive, linear-time algorithm for the\n",
    "maximum-subarray problem. Start at the left end of the array, and progress toward\n",
    "the right, keeping track of the maximum subarray seen so far. Knowing a maximum\n",
    "subarray of A[1..j], extend the answer to find a maximum subarray ending at index j+1 by using the following observation: a maximum subarray of A[1...j+1]\n",
    "is either a maximum subarray of A[1...j]? or a subarray A[1...j+1]?, for some\n",
    "1 <= i <= j + 1. Determine a maximum subarray of the form A[1...j+1] in\n",
    "constant time based on knowing a maximum subarray ending at index j."
   ]
  },
  {
   "cell_type": "code",
   "execution_count": 10,
   "metadata": {
    "collapsed": false
   },
   "outputs": [
    {
     "name": "stdout",
     "output_type": "stream",
     "text": [
      "[100, 113, 110, 85, 105, 102, 86, 63, 81, 101, 94, 106, 101, 79, 94, 90, 97]\n",
      "[13, -3, -25, 20, -3, -16, -23, 18, 20, -7, 12, -5, -22, 15, -4, 7]\n"
     ]
    },
    {
     "data": {
      "text/plain": [
       "(6, 10, 43)"
      ]
     },
     "execution_count": 10,
     "metadata": {},
     "output_type": "execute_result"
    }
   ],
   "source": [
    "def linear_subarray(a):\n",
    "    buy_here = 0\n",
    "    sell_here = 0\n",
    "    max_here = 0\n",
    "    \n",
    "    buy_ever = 0\n",
    "    sell_ever = 0\n",
    "    max_ever = 0\n",
    "    for i in range(len(a)):\n",
    "        max_here = max_here + a[i]\n",
    "        sell_here += 1\n",
    "        if max_here < 0:\n",
    "            max_here = 0\n",
    "            buy_here = i\n",
    "            sell_here = i\n",
    "        if max_ever < max_here:\n",
    "            max_ever = max_here\n",
    "            buy_ever = buy_here\n",
    "            sell_ever = sell_here \n",
    "    return buy_ever, sell_ever, max_ever\n",
    "\n",
    "t= [100, 113, 110, 85, 105, 102, 86, 63, 81, 101, 94, 106, 101, 79, 94, 90, 97]\n",
    "diff_t = [t[i+1] - t[i] for i in range(len(t)-1)]\n",
    "print(t)\n",
    "print(diff_t)\n",
    "linear_subarray(diff_t)"
   ]
  },
  {
   "cell_type": "code",
   "execution_count": null,
   "metadata": {
    "collapsed": true
   },
   "outputs": [],
   "source": []
  }
 ],
 "metadata": {
  "kernelspec": {
   "display_name": "Python [Root]",
   "language": "python",
   "name": "Python [Root]"
  },
  "language_info": {
   "codemirror_mode": {
    "name": "ipython",
    "version": 3
   },
   "file_extension": ".py",
   "mimetype": "text/x-python",
   "name": "python",
   "nbconvert_exporter": "python",
   "pygments_lexer": "ipython3",
   "version": "3.5.2"
  }
 },
 "nbformat": 4,
 "nbformat_minor": 0
}
